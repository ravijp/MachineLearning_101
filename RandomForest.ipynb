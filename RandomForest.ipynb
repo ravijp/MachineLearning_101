{
  "cells": [
    {
      "metadata": {
        "_cell_guid": "e81ee64d-e474-4662-9036-ce23df615199",
        "_uuid": "b6269c0e8f417f82daf093dda8fa0da6d2c57d86"
      },
      "cell_type": "markdown",
      "source": "# Introduction\n**This will be your workspace for Kaggle's Machine Learning education track.**\n\nYou will build and continually improve a model to predict housing prices as you work through each tutorial.  Fork this notebook and write your code in it.\n\nThe data from the tutorial, the Melbourne data, is not available in this workspace.  You will need to translate the concepts to work with the data in this notebook, the Iowa data.\n\nCome to the [Learn Discussion](https://www.kaggle.com/learn-forum) forum for any questions or comments. \n\n# Write Your Code Below\n\n"
    },
    {
      "metadata": {
        "_cell_guid": "86b26423-563a-4fa1-a595-89e25ff93089",
        "_uuid": "1c728098629e1301643443b1341556a15c089b2b",
        "trusted": true
      },
      "cell_type": "code",
      "source": "import pandas as pd\n\nmain_file_path = '../input/train.csv'\ndata = pd.read_csv(main_file_path)\nprint('hello world')",
      "execution_count": 49,
      "outputs": [
        {
          "name": "stdout",
          "output_type": "stream",
          "text": "hello world\n"
        }
      ]
    },
    {
      "metadata": {
        "trusted": true,
        "_uuid": "20a3b993df1ca5382f0561a3f29e6853d2720493"
      },
      "cell_type": "code",
      "source": "print(data.describe())",
      "execution_count": 50,
      "outputs": [
        {
          "name": "stdout",
          "output_type": "stream",
          "text": "                Id   MSSubClass  LotFrontage        LotArea  OverallQual  \\\ncount  1460.000000  1460.000000  1201.000000    1460.000000  1460.000000   \nmean    730.500000    56.897260    70.049958   10516.828082     6.099315   \nstd     421.610009    42.300571    24.284752    9981.264932     1.382997   \nmin       1.000000    20.000000    21.000000    1300.000000     1.000000   \n25%     365.750000    20.000000    59.000000    7553.500000     5.000000   \n50%     730.500000    50.000000    69.000000    9478.500000     6.000000   \n75%    1095.250000    70.000000    80.000000   11601.500000     7.000000   \nmax    1460.000000   190.000000   313.000000  215245.000000    10.000000   \n\n       OverallCond    YearBuilt  YearRemodAdd   MasVnrArea   BsmtFinSF1  \\\ncount  1460.000000  1460.000000   1460.000000  1452.000000  1460.000000   \nmean      5.575342  1971.267808   1984.865753   103.685262   443.639726   \nstd       1.112799    30.202904     20.645407   181.066207   456.098091   \nmin       1.000000  1872.000000   1950.000000     0.000000     0.000000   \n25%       5.000000  1954.000000   1967.000000     0.000000     0.000000   \n50%       5.000000  1973.000000   1994.000000     0.000000   383.500000   \n75%       6.000000  2000.000000   2004.000000   166.000000   712.250000   \nmax       9.000000  2010.000000   2010.000000  1600.000000  5644.000000   \n\n           ...         WoodDeckSF  OpenPorchSF  EnclosedPorch    3SsnPorch  \\\ncount      ...        1460.000000  1460.000000    1460.000000  1460.000000   \nmean       ...          94.244521    46.660274      21.954110     3.409589   \nstd        ...         125.338794    66.256028      61.119149    29.317331   \nmin        ...           0.000000     0.000000       0.000000     0.000000   \n25%        ...           0.000000     0.000000       0.000000     0.000000   \n50%        ...           0.000000    25.000000       0.000000     0.000000   \n75%        ...         168.000000    68.000000       0.000000     0.000000   \nmax        ...         857.000000   547.000000     552.000000   508.000000   \n\n       ScreenPorch     PoolArea       MiscVal       MoSold       YrSold  \\\ncount  1460.000000  1460.000000   1460.000000  1460.000000  1460.000000   \nmean     15.060959     2.758904     43.489041     6.321918  2007.815753   \nstd      55.757415    40.177307    496.123024     2.703626     1.328095   \nmin       0.000000     0.000000      0.000000     1.000000  2006.000000   \n25%       0.000000     0.000000      0.000000     5.000000  2007.000000   \n50%       0.000000     0.000000      0.000000     6.000000  2008.000000   \n75%       0.000000     0.000000      0.000000     8.000000  2009.000000   \nmax     480.000000   738.000000  15500.000000    12.000000  2010.000000   \n\n           SalePrice  \ncount    1460.000000  \nmean   180921.195890  \nstd     79442.502883  \nmin     34900.000000  \n25%    129975.000000  \n50%    163000.000000  \n75%    214000.000000  \nmax    755000.000000  \n\n[8 rows x 38 columns]\n"
        }
      ]
    },
    {
      "metadata": {
        "trusted": true,
        "_uuid": "433f05fb984a510653c7fe4a49eee89dcaae8009"
      },
      "cell_type": "code",
      "source": "print(data.columns)",
      "execution_count": 51,
      "outputs": [
        {
          "name": "stdout",
          "output_type": "stream",
          "text": "Index(['Id', 'MSSubClass', 'MSZoning', 'LotFrontage', 'LotArea', 'Street',\n       'Alley', 'LotShape', 'LandContour', 'Utilities', 'LotConfig',\n       'LandSlope', 'Neighborhood', 'Condition1', 'Condition2', 'BldgType',\n       'HouseStyle', 'OverallQual', 'OverallCond', 'YearBuilt', 'YearRemodAdd',\n       'RoofStyle', 'RoofMatl', 'Exterior1st', 'Exterior2nd', 'MasVnrType',\n       'MasVnrArea', 'ExterQual', 'ExterCond', 'Foundation', 'BsmtQual',\n       'BsmtCond', 'BsmtExposure', 'BsmtFinType1', 'BsmtFinSF1',\n       'BsmtFinType2', 'BsmtFinSF2', 'BsmtUnfSF', 'TotalBsmtSF', 'Heating',\n       'HeatingQC', 'CentralAir', 'Electrical', '1stFlrSF', '2ndFlrSF',\n       'LowQualFinSF', 'GrLivArea', 'BsmtFullBath', 'BsmtHalfBath', 'FullBath',\n       'HalfBath', 'BedroomAbvGr', 'KitchenAbvGr', 'KitchenQual',\n       'TotRmsAbvGrd', 'Functional', 'Fireplaces', 'FireplaceQu', 'GarageType',\n       'GarageYrBlt', 'GarageFinish', 'GarageCars', 'GarageArea', 'GarageQual',\n       'GarageCond', 'PavedDrive', 'WoodDeckSF', 'OpenPorchSF',\n       'EnclosedPorch', '3SsnPorch', 'ScreenPorch', 'PoolArea', 'PoolQC',\n       'Fence', 'MiscFeature', 'MiscVal', 'MoSold', 'YrSold', 'SaleType',\n       'SaleCondition', 'SalePrice'],\n      dtype='object')\n"
        }
      ]
    },
    {
      "metadata": {
        "collapsed": true,
        "trusted": true,
        "_uuid": "ff6b179ac3e52787d0cf6a07341461686e2025ee"
      },
      "cell_type": "code",
      "source": "data_price_data = data.SalePrice",
      "execution_count": 52,
      "outputs": []
    },
    {
      "metadata": {
        "trusted": true,
        "_uuid": "a8934fa28aef108c1ee6b83b52177fd2f8d6cd97"
      },
      "cell_type": "code",
      "source": "data_price_data.head()",
      "execution_count": 53,
      "outputs": [
        {
          "data": {
            "text/plain": "0    208500\n1    181500\n2    223500\n3    140000\n4    250000\nName: SalePrice, dtype: int64"
          },
          "execution_count": 53,
          "metadata": {},
          "output_type": "execute_result"
        }
      ]
    },
    {
      "metadata": {
        "trusted": true,
        "collapsed": true,
        "_uuid": "3489924e37d766eb575f753700cfa91208992d04"
      },
      "cell_type": "code",
      "source": "two_columns_of_data = data[['SaleType', 'SaleCondition']]",
      "execution_count": 54,
      "outputs": []
    },
    {
      "metadata": {
        "trusted": true,
        "_uuid": "385825e89030f82089d19478aede7219e39707cb"
      },
      "cell_type": "code",
      "source": "two_columns_of_data.describe()",
      "execution_count": 55,
      "outputs": [
        {
          "data": {
            "text/html": "<div>\n<style scoped>\n    .dataframe tbody tr th:only-of-type {\n        vertical-align: middle;\n    }\n\n    .dataframe tbody tr th {\n        vertical-align: top;\n    }\n\n    .dataframe thead th {\n        text-align: right;\n    }\n</style>\n<table border=\"1\" class=\"dataframe\">\n  <thead>\n    <tr style=\"text-align: right;\">\n      <th></th>\n      <th>SaleType</th>\n      <th>SaleCondition</th>\n    </tr>\n  </thead>\n  <tbody>\n    <tr>\n      <th>count</th>\n      <td>1460</td>\n      <td>1460</td>\n    </tr>\n    <tr>\n      <th>unique</th>\n      <td>9</td>\n      <td>6</td>\n    </tr>\n    <tr>\n      <th>top</th>\n      <td>WD</td>\n      <td>Normal</td>\n    </tr>\n    <tr>\n      <th>freq</th>\n      <td>1267</td>\n      <td>1198</td>\n    </tr>\n  </tbody>\n</table>\n</div>",
            "text/plain": "       SaleType SaleCondition\ncount      1460          1460\nunique        9             6\ntop          WD        Normal\nfreq       1267          1198"
          },
          "execution_count": 55,
          "metadata": {},
          "output_type": "execute_result"
        }
      ]
    },
    {
      "metadata": {
        "_kg_hide-input": false,
        "_kg_hide-output": false,
        "collapsed": true,
        "trusted": true,
        "_uuid": "e6ff5486899e26170c7525bad5ae28b3d0b16a6e"
      },
      "cell_type": "code",
      "source": "y = data_price_data",
      "execution_count": 56,
      "outputs": []
    },
    {
      "metadata": {
        "trusted": true,
        "collapsed": true,
        "_uuid": "fabd3031213e5c9d022c93bcb1d2a71e516bf3dd"
      },
      "cell_type": "code",
      "source": "data_predictors = ['LotArea', 'YearBuilt', '1stFlrSF', '2ndFlrSF', 'FullBath', 'BedroomAbvGr', 'TotRmsAbvGrd']\nX = data[data_predictors]",
      "execution_count": 57,
      "outputs": []
    },
    {
      "metadata": {
        "trusted": true,
        "_uuid": "7d68cd223889fd47b4424bfa0184b6585693ba1a"
      },
      "cell_type": "code",
      "source": "X.tail()",
      "execution_count": 58,
      "outputs": [
        {
          "data": {
            "text/html": "<div>\n<style scoped>\n    .dataframe tbody tr th:only-of-type {\n        vertical-align: middle;\n    }\n\n    .dataframe tbody tr th {\n        vertical-align: top;\n    }\n\n    .dataframe thead th {\n        text-align: right;\n    }\n</style>\n<table border=\"1\" class=\"dataframe\">\n  <thead>\n    <tr style=\"text-align: right;\">\n      <th></th>\n      <th>LotArea</th>\n      <th>YearBuilt</th>\n      <th>1stFlrSF</th>\n      <th>2ndFlrSF</th>\n      <th>FullBath</th>\n      <th>BedroomAbvGr</th>\n      <th>TotRmsAbvGrd</th>\n    </tr>\n  </thead>\n  <tbody>\n    <tr>\n      <th>1455</th>\n      <td>7917</td>\n      <td>1999</td>\n      <td>953</td>\n      <td>694</td>\n      <td>2</td>\n      <td>3</td>\n      <td>7</td>\n    </tr>\n    <tr>\n      <th>1456</th>\n      <td>13175</td>\n      <td>1978</td>\n      <td>2073</td>\n      <td>0</td>\n      <td>2</td>\n      <td>3</td>\n      <td>7</td>\n    </tr>\n    <tr>\n      <th>1457</th>\n      <td>9042</td>\n      <td>1941</td>\n      <td>1188</td>\n      <td>1152</td>\n      <td>2</td>\n      <td>4</td>\n      <td>9</td>\n    </tr>\n    <tr>\n      <th>1458</th>\n      <td>9717</td>\n      <td>1950</td>\n      <td>1078</td>\n      <td>0</td>\n      <td>1</td>\n      <td>2</td>\n      <td>5</td>\n    </tr>\n    <tr>\n      <th>1459</th>\n      <td>9937</td>\n      <td>1965</td>\n      <td>1256</td>\n      <td>0</td>\n      <td>1</td>\n      <td>3</td>\n      <td>6</td>\n    </tr>\n  </tbody>\n</table>\n</div>",
            "text/plain": "      LotArea  YearBuilt  1stFlrSF  2ndFlrSF  FullBath  BedroomAbvGr  \\\n1455     7917       1999       953       694         2             3   \n1456    13175       1978      2073         0         2             3   \n1457     9042       1941      1188      1152         2             4   \n1458     9717       1950      1078         0         1             2   \n1459     9937       1965      1256         0         1             3   \n\n      TotRmsAbvGrd  \n1455             7  \n1456             7  \n1457             9  \n1458             5  \n1459             6  "
          },
          "execution_count": 58,
          "metadata": {},
          "output_type": "execute_result"
        }
      ]
    },
    {
      "metadata": {
        "trusted": true,
        "_uuid": "1806b07ed48d9c43b343a41d60a87df0eb340acc"
      },
      "cell_type": "code",
      "source": "print(X.describe())",
      "execution_count": 59,
      "outputs": [
        {
          "name": "stdout",
          "output_type": "stream",
          "text": "             LotArea    YearBuilt     1stFlrSF     2ndFlrSF     FullBath  \\\ncount    1460.000000  1460.000000  1460.000000  1460.000000  1460.000000   \nmean    10516.828082  1971.267808  1162.626712   346.992466     1.565068   \nstd      9981.264932    30.202904   386.587738   436.528436     0.550916   \nmin      1300.000000  1872.000000   334.000000     0.000000     0.000000   \n25%      7553.500000  1954.000000   882.000000     0.000000     1.000000   \n50%      9478.500000  1973.000000  1087.000000     0.000000     2.000000   \n75%     11601.500000  2000.000000  1391.250000   728.000000     2.000000   \nmax    215245.000000  2010.000000  4692.000000  2065.000000     3.000000   \n\n       BedroomAbvGr  TotRmsAbvGrd  \ncount   1460.000000   1460.000000  \nmean       2.866438      6.517808  \nstd        0.815778      1.625393  \nmin        0.000000      2.000000  \n25%        2.000000      5.000000  \n50%        3.000000      6.000000  \n75%        3.000000      7.000000  \nmax        8.000000     14.000000  \n"
        }
      ]
    },
    {
      "metadata": {
        "collapsed": true,
        "trusted": true,
        "_uuid": "ce68400f5a695d91ad8c44efe4fd479da869be09"
      },
      "cell_type": "code",
      "source": "from sklearn.tree import DecisionTreeRegressor\nDT = DecisionTreeRegressor()",
      "execution_count": 60,
      "outputs": []
    },
    {
      "metadata": {
        "trusted": true,
        "_uuid": "6e1b4462be3afcadabe356b32858bd836b0e6786"
      },
      "cell_type": "code",
      "source": "DT.fit(X, y)",
      "execution_count": 61,
      "outputs": [
        {
          "data": {
            "text/plain": "DecisionTreeRegressor(criterion='mse', max_depth=None, max_features=None,\n           max_leaf_nodes=None, min_impurity_decrease=0.0,\n           min_impurity_split=None, min_samples_leaf=1,\n           min_samples_split=2, min_weight_fraction_leaf=0.0,\n           presort=False, random_state=None, splitter='best')"
          },
          "execution_count": 61,
          "metadata": {},
          "output_type": "execute_result"
        }
      ]
    },
    {
      "metadata": {
        "trusted": true,
        "_uuid": "8a03564efe15d1b7365b9be5b1935afd57d07e96"
      },
      "cell_type": "code",
      "source": "#Predicting prices for first 5 houses of training data to check\nprint(DT.predict(X.head()))",
      "execution_count": 62,
      "outputs": [
        {
          "name": "stdout",
          "output_type": "stream",
          "text": "[208500. 181500. 223500. 140000. 250000.]\n"
        }
      ]
    },
    {
      "metadata": {
        "trusted": true,
        "_uuid": "32f6300d14f7f29bb9b982ca940be4b83be0c363"
      },
      "cell_type": "code",
      "source": "#Original prices of 5 houses are in y.head()\nprint(y.head())",
      "execution_count": 63,
      "outputs": [
        {
          "name": "stdout",
          "output_type": "stream",
          "text": "0    208500\n1    181500\n2    223500\n3    140000\n4    250000\nName: SalePrice, dtype: int64\n"
        }
      ]
    },
    {
      "metadata": {
        "trusted": true,
        "_uuid": "55da395f26ea79f9d1a6178286b8bc5b6a53a901"
      },
      "cell_type": "code",
      "source": "from sklearn.metrics import mean_absolute_error\npredicted_house_prices = DT.predict(X)\nmean_absolute_error(y, predicted_house_prices)",
      "execution_count": 64,
      "outputs": [
        {
          "data": {
            "text/plain": "62.35433789954339"
          },
          "execution_count": 64,
          "metadata": {},
          "output_type": "execute_result"
        }
      ]
    },
    {
      "metadata": {
        "collapsed": true,
        "trusted": true,
        "_uuid": "07657b21fcd2288e15a4abdab928f1f1490f1258"
      },
      "cell_type": "code",
      "source": "from sklearn.model_selection import train_test_split\nX_train, X_test, y_train, y_test = train_test_split(X, y, random_state=0)",
      "execution_count": 65,
      "outputs": []
    },
    {
      "metadata": {
        "trusted": true,
        "_uuid": "73580f5efdc1d82c18c5c929a51b41735ac5eddd"
      },
      "cell_type": "code",
      "source": "print(X_train.shape)",
      "execution_count": 66,
      "outputs": [
        {
          "name": "stdout",
          "output_type": "stream",
          "text": "(1095, 7)\n"
        }
      ]
    },
    {
      "metadata": {
        "collapsed": true,
        "trusted": true,
        "_uuid": "c87ca72c3c0383f5dc084790b1f1d38c3d87b3b2"
      },
      "cell_type": "code",
      "source": "from sklearn.tree import DecisionTreeRegressor",
      "execution_count": 67,
      "outputs": []
    },
    {
      "metadata": {
        "collapsed": true,
        "trusted": true,
        "_uuid": "c052683142b53121dc2763af61293cefcb4da2da"
      },
      "cell_type": "code",
      "source": "DT = DecisionTreeRegressor()",
      "execution_count": 68,
      "outputs": []
    },
    {
      "metadata": {
        "scrolled": true,
        "trusted": true,
        "_uuid": "b74f5b7bd4ee6d15f7ef87ceefe3c952344e3348"
      },
      "cell_type": "code",
      "source": "DT.fit(X_train, y_train)",
      "execution_count": 69,
      "outputs": [
        {
          "data": {
            "text/plain": "DecisionTreeRegressor(criterion='mse', max_depth=None, max_features=None,\n           max_leaf_nodes=None, min_impurity_decrease=0.0,\n           min_impurity_split=None, min_samples_leaf=1,\n           min_samples_split=2, min_weight_fraction_leaf=0.0,\n           presort=False, random_state=None, splitter='best')"
          },
          "execution_count": 69,
          "metadata": {},
          "output_type": "execute_result"
        }
      ]
    },
    {
      "metadata": {
        "trusted": true,
        "_uuid": "c2898411d22fe3a2d73b44204ae490a3751335c4"
      },
      "cell_type": "code",
      "source": "mean_absolute_error(y_test, DT.predict(X_test))",
      "execution_count": 70,
      "outputs": [
        {
          "data": {
            "text/plain": "32387.065753424657"
          },
          "execution_count": 70,
          "metadata": {},
          "output_type": "execute_result"
        }
      ]
    },
    {
      "metadata": {
        "collapsed": true,
        "trusted": true,
        "_uuid": "f4c91945041751b3508ae85776e8161104f14e96"
      },
      "cell_type": "code",
      "source": "from sklearn.tree import DecisionTreeRegressor\nfrom sklearn.metrics import mean_absolute_error\n\ndef get_mae(max_leaf_nodes, predictor_train, predictor_val, targ_train, targ_val):\n    model = DecisionTreeRegressor(max_leaf_nodes=max_leaf_nodes, random_state=0)\n    model.fit(predictor_train, targ_train)\n    preds_val = model.predict(predictor_val)\n    mae = mean_absolute_error(targ_val, preds_val)\n    return mae",
      "execution_count": 72,
      "outputs": []
    },
    {
      "metadata": {
        "trusted": true,
        "_uuid": "32e8f460d440f88bfdca7d638a000362849823fb"
      },
      "cell_type": "code",
      "source": "for max_leaf_nodes in [5, 50, 100, 500, 5000]:\n    my_mae = get_mae(max_leaf_nodes, X_train, X_test, y_train, y_test)\n    print(\"Max leaf nodes: %d \\t\\t Mean abs erros: %d\" %(max_leaf_nodes, my_mae))",
      "execution_count": 76,
      "outputs": [
        {
          "name": "stdout",
          "output_type": "stream",
          "text": "Max leaf nodes: 5 \t\t Mean abs erros: 35190\nMax leaf nodes: 50 \t\t Mean abs erros: 27825\nMax leaf nodes: 100 \t\t Mean abs erros: 28653\nMax leaf nodes: 500 \t\t Mean abs erros: 32662\nMax leaf nodes: 5000 \t\t Mean abs erros: 33382\n"
        }
      ]
    },
    {
      "metadata": {
        "collapsed": true,
        "trusted": true,
        "_uuid": "2313cdeefc837050c5349ac1d015f246032ef7cf"
      },
      "cell_type": "code",
      "source": "from sklearn.ensemble import RandomForestRegressor\nfrom sklearn.metrics import mean_absolute_error\n",
      "execution_count": 77,
      "outputs": []
    },
    {
      "metadata": {
        "trusted": true,
        "_uuid": "15517fede8d8187d5a3fd2a83b7bf46b4e7a2815"
      },
      "cell_type": "code",
      "source": "forest_model = RandomForestRegressor()\nforest_model.fit(X_train, y_train)\nmean_absolute_error(y_test, forest_model.predict(X_test))",
      "execution_count": 78,
      "outputs": [
        {
          "output_type": "execute_result",
          "execution_count": 78,
          "data": {
            "text/plain": "23436.582502283105"
          },
          "metadata": {}
        }
      ]
    },
    {
      "metadata": {
        "trusted": true,
        "_uuid": "2ef5f7087a0a1f948d51babfa35b5c46beff14ab"
      },
      "cell_type": "code",
      "source": "test = pd.read_csv('../input/test.csv')\ntest_X = test[data_predictors]\nprint(test.columns)",
      "execution_count": 81,
      "outputs": [
        {
          "output_type": "stream",
          "text": "Index(['Id', 'MSSubClass', 'MSZoning', 'LotFrontage', 'LotArea', 'Street',\n       'Alley', 'LotShape', 'LandContour', 'Utilities', 'LotConfig',\n       'LandSlope', 'Neighborhood', 'Condition1', 'Condition2', 'BldgType',\n       'HouseStyle', 'OverallQual', 'OverallCond', 'YearBuilt', 'YearRemodAdd',\n       'RoofStyle', 'RoofMatl', 'Exterior1st', 'Exterior2nd', 'MasVnrType',\n       'MasVnrArea', 'ExterQual', 'ExterCond', 'Foundation', 'BsmtQual',\n       'BsmtCond', 'BsmtExposure', 'BsmtFinType1', 'BsmtFinSF1',\n       'BsmtFinType2', 'BsmtFinSF2', 'BsmtUnfSF', 'TotalBsmtSF', 'Heating',\n       'HeatingQC', 'CentralAir', 'Electrical', '1stFlrSF', '2ndFlrSF',\n       'LowQualFinSF', 'GrLivArea', 'BsmtFullBath', 'BsmtHalfBath', 'FullBath',\n       'HalfBath', 'BedroomAbvGr', 'KitchenAbvGr', 'KitchenQual',\n       'TotRmsAbvGrd', 'Functional', 'Fireplaces', 'FireplaceQu', 'GarageType',\n       'GarageYrBlt', 'GarageFinish', 'GarageCars', 'GarageArea', 'GarageQual',\n       'GarageCond', 'PavedDrive', 'WoodDeckSF', 'OpenPorchSF',\n       'EnclosedPorch', '3SsnPorch', 'ScreenPorch', 'PoolArea', 'PoolQC',\n       'Fence', 'MiscFeature', 'MiscVal', 'MoSold', 'YrSold', 'SaleType',\n       'SaleCondition'],\n      dtype='object')\n",
          "name": "stdout"
        }
      ]
    },
    {
      "metadata": {
        "trusted": true,
        "_uuid": "9f90828e69dd34a312edbfbef18b21d50909dd84"
      },
      "cell_type": "code",
      "source": "len(data.columns)",
      "execution_count": 82,
      "outputs": [
        {
          "output_type": "execute_result",
          "execution_count": 82,
          "data": {
            "text/plain": "81"
          },
          "metadata": {}
        }
      ]
    },
    {
      "metadata": {
        "trusted": true,
        "_uuid": "b7f21229584583dfac9bcbae963a94318995bcfe"
      },
      "cell_type": "code",
      "source": "len(test.columns)",
      "execution_count": 83,
      "outputs": [
        {
          "output_type": "execute_result",
          "execution_count": 83,
          "data": {
            "text/plain": "80"
          },
          "metadata": {}
        }
      ]
    },
    {
      "metadata": {
        "trusted": true,
        "_uuid": "fa8fdc5f8f60348bffc91fe7e1f765ebfdd840d4"
      },
      "cell_type": "code",
      "source": "predicted_prices = forest_model.predict(test_X)\nprint(predicted_prices)",
      "execution_count": 85,
      "outputs": [
        {
          "output_type": "stream",
          "text": "[133650. 154400. 183700. ... 143545. 123650. 225690.]\n",
          "name": "stdout"
        }
      ]
    },
    {
      "metadata": {
        "trusted": true,
        "collapsed": true,
        "_uuid": "0d40345199c7384f9821dfade3d5728de461eeb2"
      },
      "cell_type": "code",
      "source": "my_submission = pd.DataFrame({'Id': test.Id, 'SalePrice': predicted_prices})\nmy_submission.to_csv('submission.csv', index=False)",
      "execution_count": 86,
      "outputs": []
    },
    {
      "metadata": {
        "trusted": true,
        "collapsed": true,
        "_uuid": "b38182bdfb6c8c9bc52d6cfcf26fb069fc790041"
      },
      "cell_type": "code",
      "source": "",
      "execution_count": null,
      "outputs": []
    }
  ],
  "metadata": {
    "kernelspec": {
      "display_name": "Python 3",
      "language": "python",
      "name": "python3"
    },
    "language_info": {
      "name": "python",
      "version": "3.6.5",
      "mimetype": "text/x-python",
      "codemirror_mode": {
        "name": "ipython",
        "version": 3
      },
      "pygments_lexer": "ipython3",
      "nbconvert_exporter": "python",
      "file_extension": ".py"
    }
  },
  "nbformat": 4,
  "nbformat_minor": 1
}